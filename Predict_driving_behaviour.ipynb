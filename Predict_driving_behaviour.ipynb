{
 "cells": [
  {
   "cell_type": "markdown",
   "id": "5cae7d45",
   "metadata": {},
   "source": [
    "### Importing modules"
   ]
  },
  {
   "cell_type": "code",
   "execution_count": 1,
   "id": "75f5ddc2",
   "metadata": {},
   "outputs": [
    {
     "name": "stdout",
     "output_type": "stream",
     "text": [
      "Requirement already satisfied: tensorflow in c:\\users\\dipta\\appdata\\local\\programs\\python\\python310\\lib\\site-packages (2.9.1)\n",
      "Requirement already satisfied: protobuf<3.20,>=3.9.2 in c:\\users\\dipta\\appdata\\local\\programs\\python\\python310\\lib\\site-packages (from tensorflow) (3.19.4)\n",
      "Requirement already satisfied: tensorboard<2.10,>=2.9 in c:\\users\\dipta\\appdata\\local\\programs\\python\\python310\\lib\\site-packages (from tensorflow) (2.9.1)\n",
      "Requirement already satisfied: typing-extensions>=3.6.6 in c:\\users\\dipta\\appdata\\local\\programs\\python\\python310\\lib\\site-packages (from tensorflow) (4.2.0)\n",
      "Requirement already satisfied: wrapt>=1.11.0 in c:\\users\\dipta\\appdata\\local\\programs\\python\\python310\\lib\\site-packages (from tensorflow) (1.14.1)\n",
      "Requirement already satisfied: setuptools in c:\\users\\dipta\\appdata\\local\\programs\\python\\python310\\lib\\site-packages (from tensorflow) (58.1.0)\n",
      "Requirement already satisfied: grpcio<2.0,>=1.24.3 in c:\\users\\dipta\\appdata\\local\\programs\\python\\python310\\lib\\site-packages (from tensorflow) (1.46.3)\n",
      "Requirement already satisfied: termcolor>=1.1.0 in c:\\users\\dipta\\appdata\\local\\programs\\python\\python310\\lib\\site-packages (from tensorflow) (1.1.0)\n",
      "Requirement already satisfied: google-pasta>=0.1.1 in c:\\users\\dipta\\appdata\\local\\programs\\python\\python310\\lib\\site-packages (from tensorflow) (0.2.0)\n",
      "Requirement already satisfied: tensorflow-estimator<2.10.0,>=2.9.0rc0 in c:\\users\\dipta\\appdata\\local\\programs\\python\\python310\\lib\\site-packages (from tensorflow) (2.9.0)\n",
      "Requirement already satisfied: keras-preprocessing>=1.1.1 in c:\\users\\dipta\\appdata\\local\\programs\\python\\python310\\lib\\site-packages (from tensorflow) (1.1.2)\n",
      "Requirement already satisfied: tensorflow-io-gcs-filesystem>=0.23.1 in c:\\users\\dipta\\appdata\\local\\programs\\python\\python310\\lib\\site-packages (from tensorflow) (0.26.0)\n",
      "Requirement already satisfied: packaging in c:\\users\\dipta\\appdata\\local\\programs\\python\\python310\\lib\\site-packages (from tensorflow) (21.3)\n",
      "Requirement already satisfied: libclang>=13.0.0 in c:\\users\\dipta\\appdata\\local\\programs\\python\\python310\\lib\\site-packages (from tensorflow) (14.0.1)\n",
      "Requirement already satisfied: gast<=0.4.0,>=0.2.1 in c:\\users\\dipta\\appdata\\local\\programs\\python\\python310\\lib\\site-packages (from tensorflow) (0.4.0)\n",
      "Requirement already satisfied: opt-einsum>=2.3.2 in c:\\users\\dipta\\appdata\\local\\programs\\python\\python310\\lib\\site-packages (from tensorflow) (3.3.0)\n",
      "Requirement already satisfied: astunparse>=1.6.0 in c:\\users\\dipta\\appdata\\local\\programs\\python\\python310\\lib\\site-packages (from tensorflow) (1.6.3)\n",
      "Requirement already satisfied: absl-py>=1.0.0 in c:\\users\\dipta\\appdata\\local\\programs\\python\\python310\\lib\\site-packages (from tensorflow) (1.1.0)\n",
      "Requirement already satisfied: h5py>=2.9.0 in c:\\users\\dipta\\appdata\\local\\programs\\python\\python310\\lib\\site-packages (from tensorflow) (3.7.0)\n",
      "Requirement already satisfied: flatbuffers<2,>=1.12 in c:\\users\\dipta\\appdata\\local\\programs\\python\\python310\\lib\\site-packages (from tensorflow) (1.12)\n",
      "Requirement already satisfied: numpy>=1.20 in c:\\users\\dipta\\appdata\\local\\programs\\python\\python310\\lib\\site-packages (from tensorflow) (1.22.4)\n",
      "Requirement already satisfied: keras<2.10.0,>=2.9.0rc0 in c:\\users\\dipta\\appdata\\local\\programs\\python\\python310\\lib\\site-packages (from tensorflow) (2.9.0)\n",
      "Requirement already satisfied: six>=1.12.0 in c:\\users\\dipta\\appdata\\local\\programs\\python\\python310\\lib\\site-packages (from tensorflow) (1.16.0)\n",
      "Requirement already satisfied: wheel<1.0,>=0.23.0 in c:\\users\\dipta\\appdata\\local\\programs\\python\\python310\\lib\\site-packages (from astunparse>=1.6.0->tensorflow) (0.37.1)\n",
      "Requirement already satisfied: google-auth-oauthlib<0.5,>=0.4.1 in c:\\users\\dipta\\appdata\\local\\programs\\python\\python310\\lib\\site-packages (from tensorboard<2.10,>=2.9->tensorflow) (0.4.6)\n",
      "Requirement already satisfied: google-auth<3,>=1.6.3 in c:\\users\\dipta\\appdata\\local\\programs\\python\\python310\\lib\\site-packages (from tensorboard<2.10,>=2.9->tensorflow) (2.8.0)\n",
      "Requirement already satisfied: tensorboard-plugin-wit>=1.6.0 in c:\\users\\dipta\\appdata\\local\\programs\\python\\python310\\lib\\site-packages (from tensorboard<2.10,>=2.9->tensorflow) (1.8.1)\n",
      "Requirement already satisfied: werkzeug>=1.0.1 in c:\\users\\dipta\\appdata\\local\\programs\\python\\python310\\lib\\site-packages (from tensorboard<2.10,>=2.9->tensorflow) (2.1.2)\n",
      "Requirement already satisfied: requests<3,>=2.21.0 in c:\\users\\dipta\\appdata\\local\\programs\\python\\python310\\lib\\site-packages (from tensorboard<2.10,>=2.9->tensorflow) (2.28.0)\n",
      "Requirement already satisfied: tensorboard-data-server<0.7.0,>=0.6.0 in c:\\users\\dipta\\appdata\\local\\programs\\python\\python310\\lib\\site-packages (from tensorboard<2.10,>=2.9->tensorflow) (0.6.1)\n",
      "Requirement already satisfied: markdown>=2.6.8 in c:\\users\\dipta\\appdata\\local\\programs\\python\\python310\\lib\\site-packages (from tensorboard<2.10,>=2.9->tensorflow) (3.3.7)\n",
      "Requirement already satisfied: pyparsing!=3.0.5,>=2.0.2 in c:\\users\\dipta\\appdata\\local\\programs\\python\\python310\\lib\\site-packages (from packaging->tensorflow) (3.0.8)\n",
      "Requirement already satisfied: cachetools<6.0,>=2.0.0 in c:\\users\\dipta\\appdata\\local\\programs\\python\\python310\\lib\\site-packages (from google-auth<3,>=1.6.3->tensorboard<2.10,>=2.9->tensorflow) (5.2.0)\n",
      "Requirement already satisfied: rsa<5,>=3.1.4 in c:\\users\\dipta\\appdata\\local\\programs\\python\\python310\\lib\\site-packages (from google-auth<3,>=1.6.3->tensorboard<2.10,>=2.9->tensorflow) (4.8)\n",
      "Requirement already satisfied: pyasn1-modules>=0.2.1 in c:\\users\\dipta\\appdata\\local\\programs\\python\\python310\\lib\\site-packages (from google-auth<3,>=1.6.3->tensorboard<2.10,>=2.9->tensorflow) (0.2.8)\n",
      "Requirement already satisfied: requests-oauthlib>=0.7.0 in c:\\users\\dipta\\appdata\\local\\programs\\python\\python310\\lib\\site-packages (from google-auth-oauthlib<0.5,>=0.4.1->tensorboard<2.10,>=2.9->tensorflow) (1.3.1)\n",
      "Requirement already satisfied: idna<4,>=2.5 in c:\\users\\dipta\\appdata\\local\\programs\\python\\python310\\lib\\site-packages (from requests<3,>=2.21.0->tensorboard<2.10,>=2.9->tensorflow) (3.3)\n",
      "Requirement already satisfied: urllib3<1.27,>=1.21.1 in c:\\users\\dipta\\appdata\\local\\programs\\python\\python310\\lib\\site-packages (from requests<3,>=2.21.0->tensorboard<2.10,>=2.9->tensorflow) (1.26.9)\n",
      "Requirement already satisfied: charset-normalizer~=2.0.0 in c:\\users\\dipta\\appdata\\local\\programs\\python\\python310\\lib\\site-packages (from requests<3,>=2.21.0->tensorboard<2.10,>=2.9->tensorflow) (2.0.12)\n",
      "Requirement already satisfied: certifi>=2017.4.17 in c:\\users\\dipta\\appdata\\local\\programs\\python\\python310\\lib\\site-packages (from requests<3,>=2.21.0->tensorboard<2.10,>=2.9->tensorflow) (2022.6.15)\n",
      "Requirement already satisfied: pyasn1<0.5.0,>=0.4.6 in c:\\users\\dipta\\appdata\\local\\programs\\python\\python310\\lib\\site-packages (from pyasn1-modules>=0.2.1->google-auth<3,>=1.6.3->tensorboard<2.10,>=2.9->tensorflow) (0.4.8)\n",
      "Requirement already satisfied: oauthlib>=3.0.0 in c:\\users\\dipta\\appdata\\local\\programs\\python\\python310\\lib\\site-packages (from requests-oauthlib>=0.7.0->google-auth-oauthlib<0.5,>=0.4.1->tensorboard<2.10,>=2.9->tensorflow) (3.2.0)\n"
     ]
    }
   ],
   "source": [
    "!pip install tensorflow"
   ]
  },
  {
   "cell_type": "code",
   "execution_count": 2,
   "id": "4335d9a0",
   "metadata": {},
   "outputs": [
    {
     "name": "stdout",
     "output_type": "stream",
     "text": [
      "Requirement already satisfied: keras-tuner in c:\\users\\dipta\\appdata\\local\\programs\\python\\python310\\lib\\site-packages (1.1.2)\n",
      "Requirement already satisfied: numpy in c:\\users\\dipta\\appdata\\local\\programs\\python\\python310\\lib\\site-packages (from keras-tuner) (1.22.4)\n",
      "Requirement already satisfied: packaging in c:\\users\\dipta\\appdata\\local\\programs\\python\\python310\\lib\\site-packages (from keras-tuner) (21.3)\n",
      "Requirement already satisfied: ipython in c:\\users\\dipta\\appdata\\local\\programs\\python\\python310\\lib\\site-packages (from keras-tuner) (8.2.0)\n",
      "Requirement already satisfied: kt-legacy in c:\\users\\dipta\\appdata\\local\\programs\\python\\python310\\lib\\site-packages (from keras-tuner) (1.0.4)\n",
      "Requirement already satisfied: tensorboard in c:\\users\\dipta\\appdata\\local\\programs\\python\\python310\\lib\\site-packages (from keras-tuner) (2.9.1)\n",
      "Requirement already satisfied: requests in c:\\users\\dipta\\appdata\\local\\programs\\python\\python310\\lib\\site-packages (from keras-tuner) (2.28.0)\n",
      "Requirement already satisfied: prompt-toolkit!=3.0.0,!=3.0.1,<3.1.0,>=2.0.0 in c:\\users\\dipta\\appdata\\local\\programs\\python\\python310\\lib\\site-packages (from ipython->keras-tuner) (3.0.29)\n",
      "Requirement already satisfied: backcall in c:\\users\\dipta\\appdata\\local\\programs\\python\\python310\\lib\\site-packages (from ipython->keras-tuner) (0.2.0)\n",
      "Requirement already satisfied: pygments>=2.4.0 in c:\\users\\dipta\\appdata\\local\\programs\\python\\python310\\lib\\site-packages (from ipython->keras-tuner) (2.12.0)\n",
      "Requirement already satisfied: setuptools>=18.5 in c:\\users\\dipta\\appdata\\local\\programs\\python\\python310\\lib\\site-packages (from ipython->keras-tuner) (58.1.0)\n",
      "Requirement already satisfied: decorator in c:\\users\\dipta\\appdata\\local\\programs\\python\\python310\\lib\\site-packages (from ipython->keras-tuner) (5.1.1)\n",
      "Requirement already satisfied: jedi>=0.16 in c:\\users\\dipta\\appdata\\local\\programs\\python\\python310\\lib\\site-packages (from ipython->keras-tuner) (0.18.1)\n",
      "Requirement already satisfied: traitlets>=5 in c:\\users\\dipta\\appdata\\local\\programs\\python\\python310\\lib\\site-packages (from ipython->keras-tuner) (5.1.1)\n",
      "Requirement already satisfied: stack-data in c:\\users\\dipta\\appdata\\local\\programs\\python\\python310\\lib\\site-packages (from ipython->keras-tuner) (0.2.0)\n",
      "Requirement already satisfied: colorama in c:\\users\\dipta\\appdata\\local\\programs\\python\\python310\\lib\\site-packages (from ipython->keras-tuner) (0.4.4)\n",
      "Requirement already satisfied: pickleshare in c:\\users\\dipta\\appdata\\local\\programs\\python\\python310\\lib\\site-packages (from ipython->keras-tuner) (0.7.5)\n",
      "Requirement already satisfied: matplotlib-inline in c:\\users\\dipta\\appdata\\local\\programs\\python\\python310\\lib\\site-packages (from ipython->keras-tuner) (0.1.3)\n",
      "Requirement already satisfied: pyparsing!=3.0.5,>=2.0.2 in c:\\users\\dipta\\appdata\\local\\programs\\python\\python310\\lib\\site-packages (from packaging->keras-tuner) (3.0.8)\n",
      "Requirement already satisfied: idna<4,>=2.5 in c:\\users\\dipta\\appdata\\local\\programs\\python\\python310\\lib\\site-packages (from requests->keras-tuner) (3.3)\n",
      "Requirement already satisfied: charset-normalizer~=2.0.0 in c:\\users\\dipta\\appdata\\local\\programs\\python\\python310\\lib\\site-packages (from requests->keras-tuner) (2.0.12)\n",
      "Requirement already satisfied: urllib3<1.27,>=1.21.1 in c:\\users\\dipta\\appdata\\local\\programs\\python\\python310\\lib\\site-packages (from requests->keras-tuner) (1.26.9)\n",
      "Requirement already satisfied: certifi>=2017.4.17 in c:\\users\\dipta\\appdata\\local\\programs\\python\\python310\\lib\\site-packages (from requests->keras-tuner) (2022.6.15)\n",
      "Requirement already satisfied: tensorboard-data-server<0.7.0,>=0.6.0 in c:\\users\\dipta\\appdata\\local\\programs\\python\\python310\\lib\\site-packages (from tensorboard->keras-tuner) (0.6.1)\n",
      "Requirement already satisfied: google-auth-oauthlib<0.5,>=0.4.1 in c:\\users\\dipta\\appdata\\local\\programs\\python\\python310\\lib\\site-packages (from tensorboard->keras-tuner) (0.4.6)\n",
      "Requirement already satisfied: google-auth<3,>=1.6.3 in c:\\users\\dipta\\appdata\\local\\programs\\python\\python310\\lib\\site-packages (from tensorboard->keras-tuner) (2.8.0)\n",
      "Requirement already satisfied: werkzeug>=1.0.1 in c:\\users\\dipta\\appdata\\local\\programs\\python\\python310\\lib\\site-packages (from tensorboard->keras-tuner) (2.1.2)\n",
      "Requirement already satisfied: wheel>=0.26 in c:\\users\\dipta\\appdata\\local\\programs\\python\\python310\\lib\\site-packages (from tensorboard->keras-tuner) (0.37.1)\n",
      "Requirement already satisfied: absl-py>=0.4 in c:\\users\\dipta\\appdata\\local\\programs\\python\\python310\\lib\\site-packages (from tensorboard->keras-tuner) (1.1.0)\n",
      "Requirement already satisfied: grpcio>=1.24.3 in c:\\users\\dipta\\appdata\\local\\programs\\python\\python310\\lib\\site-packages (from tensorboard->keras-tuner) (1.46.3)\n",
      "Requirement already satisfied: markdown>=2.6.8 in c:\\users\\dipta\\appdata\\local\\programs\\python\\python310\\lib\\site-packages (from tensorboard->keras-tuner) (3.3.7)\n",
      "Requirement already satisfied: tensorboard-plugin-wit>=1.6.0 in c:\\users\\dipta\\appdata\\local\\programs\\python\\python310\\lib\\site-packages (from tensorboard->keras-tuner) (1.8.1)\n",
      "Requirement already satisfied: protobuf<3.20,>=3.9.2 in c:\\users\\dipta\\appdata\\local\\programs\\python\\python310\\lib\\site-packages (from tensorboard->keras-tuner) (3.19.4)\n",
      "Requirement already satisfied: rsa<5,>=3.1.4 in c:\\users\\dipta\\appdata\\local\\programs\\python\\python310\\lib\\site-packages (from google-auth<3,>=1.6.3->tensorboard->keras-tuner) (4.8)\n",
      "Requirement already satisfied: pyasn1-modules>=0.2.1 in c:\\users\\dipta\\appdata\\local\\programs\\python\\python310\\lib\\site-packages (from google-auth<3,>=1.6.3->tensorboard->keras-tuner) (0.2.8)\n",
      "Requirement already satisfied: cachetools<6.0,>=2.0.0 in c:\\users\\dipta\\appdata\\local\\programs\\python\\python310\\lib\\site-packages (from google-auth<3,>=1.6.3->tensorboard->keras-tuner) (5.2.0)\n",
      "Requirement already satisfied: six>=1.9.0 in c:\\users\\dipta\\appdata\\local\\programs\\python\\python310\\lib\\site-packages (from google-auth<3,>=1.6.3->tensorboard->keras-tuner) (1.16.0)\n",
      "Requirement already satisfied: requests-oauthlib>=0.7.0 in c:\\users\\dipta\\appdata\\local\\programs\\python\\python310\\lib\\site-packages (from google-auth-oauthlib<0.5,>=0.4.1->tensorboard->keras-tuner) (1.3.1)\n",
      "Requirement already satisfied: parso<0.9.0,>=0.8.0 in c:\\users\\dipta\\appdata\\local\\programs\\python\\python310\\lib\\site-packages (from jedi>=0.16->ipython->keras-tuner) (0.8.3)\n",
      "Requirement already satisfied: wcwidth in c:\\users\\dipta\\appdata\\local\\programs\\python\\python310\\lib\\site-packages (from prompt-toolkit!=3.0.0,!=3.0.1,<3.1.0,>=2.0.0->ipython->keras-tuner) (0.2.5)\n",
      "Requirement already satisfied: asttokens in c:\\users\\dipta\\appdata\\local\\programs\\python\\python310\\lib\\site-packages (from stack-data->ipython->keras-tuner) (2.0.5)\n",
      "Requirement already satisfied: executing in c:\\users\\dipta\\appdata\\local\\programs\\python\\python310\\lib\\site-packages (from stack-data->ipython->keras-tuner) (0.8.3)\n",
      "Requirement already satisfied: pure-eval in c:\\users\\dipta\\appdata\\local\\programs\\python\\python310\\lib\\site-packages (from stack-data->ipython->keras-tuner) (0.2.2)\n",
      "Requirement already satisfied: pyasn1<0.5.0,>=0.4.6 in c:\\users\\dipta\\appdata\\local\\programs\\python\\python310\\lib\\site-packages (from pyasn1-modules>=0.2.1->google-auth<3,>=1.6.3->tensorboard->keras-tuner) (0.4.8)\n",
      "Requirement already satisfied: oauthlib>=3.0.0 in c:\\users\\dipta\\appdata\\local\\programs\\python\\python310\\lib\\site-packages (from requests-oauthlib>=0.7.0->google-auth-oauthlib<0.5,>=0.4.1->tensorboard->keras-tuner) (3.2.0)\n"
     ]
    }
   ],
   "source": [
    "!pip install keras-tuner --upgrade"
   ]
  },
  {
   "cell_type": "code",
   "execution_count": 41,
   "id": "5a3f6ba0",
   "metadata": {},
   "outputs": [],
   "source": [
    "import numpy as np\n",
    "import pandas as pd\n",
    "import matplotlib.pyplot as plt\n",
    "from sklearn.preprocessing import LabelEncoder,StandardScaler\n",
    "from sklearn.metrics import confusion_matrix, ConfusionMatrixDisplay\n",
    "from tensorflow.keras.utils import to_categorical\n",
    "import tensorflow as tf\n",
    "from tensorflow import keras, lite\n",
    "from tensorflow.keras.layers import LSTM, Dense , Dropout, Flatten, ConvLSTM2D, RepeatVector\n",
    "import keras_tuner as kt"
   ]
  },
  {
   "cell_type": "markdown",
   "id": "76ed3bd0",
   "metadata": {},
   "source": [
    "### Data preparation"
   ]
  },
  {
   "cell_type": "code",
   "execution_count": 6,
   "id": "2d7881e2",
   "metadata": {},
   "outputs": [],
   "source": [
    "train_set= pd.read_csv(\"Data/train_motion_data.csv\")\n",
    "test_set=pd.read_csv(\"Data/test_motion_data.csv\")"
   ]
  },
  {
   "cell_type": "code",
   "execution_count": 7,
   "id": "216cefca",
   "metadata": {},
   "outputs": [
    {
     "data": {
      "text/html": [
       "<div>\n",
       "<style scoped>\n",
       "    .dataframe tbody tr th:only-of-type {\n",
       "        vertical-align: middle;\n",
       "    }\n",
       "\n",
       "    .dataframe tbody tr th {\n",
       "        vertical-align: top;\n",
       "    }\n",
       "\n",
       "    .dataframe thead th {\n",
       "        text-align: right;\n",
       "    }\n",
       "</style>\n",
       "<table border=\"1\" class=\"dataframe\">\n",
       "  <thead>\n",
       "    <tr style=\"text-align: right;\">\n",
       "      <th></th>\n",
       "      <th>AccX</th>\n",
       "      <th>AccY</th>\n",
       "      <th>AccZ</th>\n",
       "      <th>GyroX</th>\n",
       "      <th>GyroY</th>\n",
       "      <th>GyroZ</th>\n",
       "      <th>Class</th>\n",
       "      <th>Timestamp</th>\n",
       "    </tr>\n",
       "  </thead>\n",
       "  <tbody>\n",
       "    <tr>\n",
       "      <th>0</th>\n",
       "      <td>0.000000</td>\n",
       "      <td>0.000000</td>\n",
       "      <td>0.000000</td>\n",
       "      <td>0.059407</td>\n",
       "      <td>-0.174707</td>\n",
       "      <td>0.101938</td>\n",
       "      <td>NORMAL</td>\n",
       "      <td>3581629</td>\n",
       "    </tr>\n",
       "    <tr>\n",
       "      <th>1</th>\n",
       "      <td>-1.624864</td>\n",
       "      <td>-1.082492</td>\n",
       "      <td>-0.204183</td>\n",
       "      <td>-0.028558</td>\n",
       "      <td>0.051313</td>\n",
       "      <td>0.135536</td>\n",
       "      <td>NORMAL</td>\n",
       "      <td>3581630</td>\n",
       "    </tr>\n",
       "    <tr>\n",
       "      <th>2</th>\n",
       "      <td>-0.594660</td>\n",
       "      <td>-0.122410</td>\n",
       "      <td>0.220502</td>\n",
       "      <td>-0.019395</td>\n",
       "      <td>-0.029322</td>\n",
       "      <td>0.087888</td>\n",
       "      <td>NORMAL</td>\n",
       "      <td>3581630</td>\n",
       "    </tr>\n",
       "    <tr>\n",
       "      <th>3</th>\n",
       "      <td>0.738478</td>\n",
       "      <td>-0.228456</td>\n",
       "      <td>0.667732</td>\n",
       "      <td>0.069791</td>\n",
       "      <td>-0.029932</td>\n",
       "      <td>0.054902</td>\n",
       "      <td>NORMAL</td>\n",
       "      <td>3581631</td>\n",
       "    </tr>\n",
       "    <tr>\n",
       "      <th>4</th>\n",
       "      <td>0.101741</td>\n",
       "      <td>0.777568</td>\n",
       "      <td>-0.066730</td>\n",
       "      <td>0.030696</td>\n",
       "      <td>-0.003665</td>\n",
       "      <td>0.054902</td>\n",
       "      <td>NORMAL</td>\n",
       "      <td>3581631</td>\n",
       "    </tr>\n",
       "    <tr>\n",
       "      <th>...</th>\n",
       "      <td>...</td>\n",
       "      <td>...</td>\n",
       "      <td>...</td>\n",
       "      <td>...</td>\n",
       "      <td>...</td>\n",
       "      <td>...</td>\n",
       "      <td>...</td>\n",
       "      <td>...</td>\n",
       "    </tr>\n",
       "    <tr>\n",
       "      <th>3639</th>\n",
       "      <td>0.915688</td>\n",
       "      <td>-2.017489</td>\n",
       "      <td>1.687505</td>\n",
       "      <td>0.450360</td>\n",
       "      <td>0.384845</td>\n",
       "      <td>-1.236468</td>\n",
       "      <td>SLOW</td>\n",
       "      <td>3583789</td>\n",
       "    </tr>\n",
       "    <tr>\n",
       "      <th>3640</th>\n",
       "      <td>-1.934203</td>\n",
       "      <td>0.914925</td>\n",
       "      <td>-0.096013</td>\n",
       "      <td>0.321468</td>\n",
       "      <td>0.649350</td>\n",
       "      <td>-0.477162</td>\n",
       "      <td>SLOW</td>\n",
       "      <td>3583790</td>\n",
       "    </tr>\n",
       "    <tr>\n",
       "      <th>3641</th>\n",
       "      <td>-0.222845</td>\n",
       "      <td>0.747304</td>\n",
       "      <td>-0.887430</td>\n",
       "      <td>0.361174</td>\n",
       "      <td>-0.406836</td>\n",
       "      <td>0.054291</td>\n",
       "      <td>SLOW</td>\n",
       "      <td>3583790</td>\n",
       "    </tr>\n",
       "    <tr>\n",
       "      <th>3642</th>\n",
       "      <td>-0.349423</td>\n",
       "      <td>0.067261</td>\n",
       "      <td>0.394368</td>\n",
       "      <td>-0.132405</td>\n",
       "      <td>0.020159</td>\n",
       "      <td>-0.004963</td>\n",
       "      <td>SLOW</td>\n",
       "      <td>3583791</td>\n",
       "    </tr>\n",
       "    <tr>\n",
       "      <th>3643</th>\n",
       "      <td>-0.402428</td>\n",
       "      <td>0.406218</td>\n",
       "      <td>-0.423009</td>\n",
       "      <td>-0.053603</td>\n",
       "      <td>-0.006720</td>\n",
       "      <td>0.001145</td>\n",
       "      <td>SLOW</td>\n",
       "      <td>3583791</td>\n",
       "    </tr>\n",
       "  </tbody>\n",
       "</table>\n",
       "<p>3644 rows × 8 columns</p>\n",
       "</div>"
      ],
      "text/plain": [
       "          AccX      AccY      AccZ     GyroX     GyroY     GyroZ   Class  \\\n",
       "0     0.000000  0.000000  0.000000  0.059407 -0.174707  0.101938  NORMAL   \n",
       "1    -1.624864 -1.082492 -0.204183 -0.028558  0.051313  0.135536  NORMAL   \n",
       "2    -0.594660 -0.122410  0.220502 -0.019395 -0.029322  0.087888  NORMAL   \n",
       "3     0.738478 -0.228456  0.667732  0.069791 -0.029932  0.054902  NORMAL   \n",
       "4     0.101741  0.777568 -0.066730  0.030696 -0.003665  0.054902  NORMAL   \n",
       "...        ...       ...       ...       ...       ...       ...     ...   \n",
       "3639  0.915688 -2.017489  1.687505  0.450360  0.384845 -1.236468    SLOW   \n",
       "3640 -1.934203  0.914925 -0.096013  0.321468  0.649350 -0.477162    SLOW   \n",
       "3641 -0.222845  0.747304 -0.887430  0.361174 -0.406836  0.054291    SLOW   \n",
       "3642 -0.349423  0.067261  0.394368 -0.132405  0.020159 -0.004963    SLOW   \n",
       "3643 -0.402428  0.406218 -0.423009 -0.053603 -0.006720  0.001145    SLOW   \n",
       "\n",
       "      Timestamp  \n",
       "0       3581629  \n",
       "1       3581630  \n",
       "2       3581630  \n",
       "3       3581631  \n",
       "4       3581631  \n",
       "...         ...  \n",
       "3639    3583789  \n",
       "3640    3583790  \n",
       "3641    3583790  \n",
       "3642    3583791  \n",
       "3643    3583791  \n",
       "\n",
       "[3644 rows x 8 columns]"
      ]
     },
     "execution_count": 7,
     "metadata": {},
     "output_type": "execute_result"
    }
   ],
   "source": [
    "train_set"
   ]
  },
  {
   "cell_type": "code",
   "execution_count": 8,
   "id": "1a08a12d",
   "metadata": {},
   "outputs": [
    {
     "data": {
      "text/html": [
       "<div>\n",
       "<style scoped>\n",
       "    .dataframe tbody tr th:only-of-type {\n",
       "        vertical-align: middle;\n",
       "    }\n",
       "\n",
       "    .dataframe tbody tr th {\n",
       "        vertical-align: top;\n",
       "    }\n",
       "\n",
       "    .dataframe thead th {\n",
       "        text-align: right;\n",
       "    }\n",
       "</style>\n",
       "<table border=\"1\" class=\"dataframe\">\n",
       "  <thead>\n",
       "    <tr style=\"text-align: right;\">\n",
       "      <th></th>\n",
       "      <th>AccX</th>\n",
       "      <th>AccY</th>\n",
       "      <th>AccZ</th>\n",
       "      <th>GyroX</th>\n",
       "      <th>GyroY</th>\n",
       "      <th>GyroZ</th>\n",
       "      <th>Class</th>\n",
       "      <th>Timestamp</th>\n",
       "    </tr>\n",
       "  </thead>\n",
       "  <tbody>\n",
       "    <tr>\n",
       "      <th>0</th>\n",
       "      <td>0.758194</td>\n",
       "      <td>-0.217791</td>\n",
       "      <td>0.457263</td>\n",
       "      <td>0.000000</td>\n",
       "      <td>0.000000</td>\n",
       "      <td>0.000000</td>\n",
       "      <td>AGGRESSIVE</td>\n",
       "      <td>818922</td>\n",
       "    </tr>\n",
       "    <tr>\n",
       "      <th>1</th>\n",
       "      <td>0.667560</td>\n",
       "      <td>-0.038610</td>\n",
       "      <td>0.231416</td>\n",
       "      <td>-0.054367</td>\n",
       "      <td>-0.007712</td>\n",
       "      <td>0.225257</td>\n",
       "      <td>AGGRESSIVE</td>\n",
       "      <td>818923</td>\n",
       "    </tr>\n",
       "    <tr>\n",
       "      <th>2</th>\n",
       "      <td>2.724449</td>\n",
       "      <td>-7.584121</td>\n",
       "      <td>2.390926</td>\n",
       "      <td>0.023824</td>\n",
       "      <td>0.013668</td>\n",
       "      <td>-0.038026</td>\n",
       "      <td>AGGRESSIVE</td>\n",
       "      <td>818923</td>\n",
       "    </tr>\n",
       "    <tr>\n",
       "      <th>3</th>\n",
       "      <td>2.330950</td>\n",
       "      <td>-7.621754</td>\n",
       "      <td>2.529024</td>\n",
       "      <td>0.056810</td>\n",
       "      <td>-0.180587</td>\n",
       "      <td>-0.052076</td>\n",
       "      <td>AGGRESSIVE</td>\n",
       "      <td>818924</td>\n",
       "    </tr>\n",
       "    <tr>\n",
       "      <th>4</th>\n",
       "      <td>2.847215</td>\n",
       "      <td>-6.755621</td>\n",
       "      <td>2.224640</td>\n",
       "      <td>-0.031765</td>\n",
       "      <td>-0.035201</td>\n",
       "      <td>0.035277</td>\n",
       "      <td>AGGRESSIVE</td>\n",
       "      <td>818924</td>\n",
       "    </tr>\n",
       "    <tr>\n",
       "      <th>...</th>\n",
       "      <td>...</td>\n",
       "      <td>...</td>\n",
       "      <td>...</td>\n",
       "      <td>...</td>\n",
       "      <td>...</td>\n",
       "      <td>...</td>\n",
       "      <td>...</td>\n",
       "      <td>...</td>\n",
       "    </tr>\n",
       "    <tr>\n",
       "      <th>3079</th>\n",
       "      <td>-0.713858</td>\n",
       "      <td>-0.652975</td>\n",
       "      <td>-0.164015</td>\n",
       "      <td>-0.147829</td>\n",
       "      <td>-1.309466</td>\n",
       "      <td>0.517250</td>\n",
       "      <td>SLOW</td>\n",
       "      <td>820706</td>\n",
       "    </tr>\n",
       "    <tr>\n",
       "      <th>3080</th>\n",
       "      <td>1.514261</td>\n",
       "      <td>0.330070</td>\n",
       "      <td>1.020714</td>\n",
       "      <td>1.321302</td>\n",
       "      <td>1.707598</td>\n",
       "      <td>-0.674548</td>\n",
       "      <td>SLOW</td>\n",
       "      <td>820707</td>\n",
       "    </tr>\n",
       "    <tr>\n",
       "      <th>3081</th>\n",
       "      <td>1.280216</td>\n",
       "      <td>-1.735172</td>\n",
       "      <td>-2.332695</td>\n",
       "      <td>0.583376</td>\n",
       "      <td>0.690507</td>\n",
       "      <td>-0.468075</td>\n",
       "      <td>SLOW</td>\n",
       "      <td>820707</td>\n",
       "    </tr>\n",
       "    <tr>\n",
       "      <th>3082</th>\n",
       "      <td>0.912313</td>\n",
       "      <td>0.583314</td>\n",
       "      <td>-0.965622</td>\n",
       "      <td>0.235794</td>\n",
       "      <td>0.512745</td>\n",
       "      <td>0.406073</td>\n",
       "      <td>SLOW</td>\n",
       "      <td>820708</td>\n",
       "    </tr>\n",
       "    <tr>\n",
       "      <th>3083</th>\n",
       "      <td>1.462172</td>\n",
       "      <td>0.190287</td>\n",
       "      <td>0.019377</td>\n",
       "      <td>-0.254731</td>\n",
       "      <td>-0.279547</td>\n",
       "      <td>0.076205</td>\n",
       "      <td>SLOW</td>\n",
       "      <td>820709</td>\n",
       "    </tr>\n",
       "  </tbody>\n",
       "</table>\n",
       "<p>3084 rows × 8 columns</p>\n",
       "</div>"
      ],
      "text/plain": [
       "          AccX      AccY      AccZ     GyroX     GyroY     GyroZ       Class  \\\n",
       "0     0.758194 -0.217791  0.457263  0.000000  0.000000  0.000000  AGGRESSIVE   \n",
       "1     0.667560 -0.038610  0.231416 -0.054367 -0.007712  0.225257  AGGRESSIVE   \n",
       "2     2.724449 -7.584121  2.390926  0.023824  0.013668 -0.038026  AGGRESSIVE   \n",
       "3     2.330950 -7.621754  2.529024  0.056810 -0.180587 -0.052076  AGGRESSIVE   \n",
       "4     2.847215 -6.755621  2.224640 -0.031765 -0.035201  0.035277  AGGRESSIVE   \n",
       "...        ...       ...       ...       ...       ...       ...         ...   \n",
       "3079 -0.713858 -0.652975 -0.164015 -0.147829 -1.309466  0.517250        SLOW   \n",
       "3080  1.514261  0.330070  1.020714  1.321302  1.707598 -0.674548        SLOW   \n",
       "3081  1.280216 -1.735172 -2.332695  0.583376  0.690507 -0.468075        SLOW   \n",
       "3082  0.912313  0.583314 -0.965622  0.235794  0.512745  0.406073        SLOW   \n",
       "3083  1.462172  0.190287  0.019377 -0.254731 -0.279547  0.076205        SLOW   \n",
       "\n",
       "      Timestamp  \n",
       "0        818922  \n",
       "1        818923  \n",
       "2        818923  \n",
       "3        818924  \n",
       "4        818924  \n",
       "...         ...  \n",
       "3079     820706  \n",
       "3080     820707  \n",
       "3081     820707  \n",
       "3082     820708  \n",
       "3083     820709  \n",
       "\n",
       "[3084 rows x 8 columns]"
      ]
     },
     "execution_count": 8,
     "metadata": {},
     "output_type": "execute_result"
    }
   ],
   "source": [
    "test_set"
   ]
  },
  {
   "cell_type": "code",
   "execution_count": 9,
   "id": "1452d208",
   "metadata": {},
   "outputs": [],
   "source": [
    "# Global constants\n",
    "TIMESTEPS =20\n",
    "FEATURES =6\n",
    "LABELS=2\n",
    "N_RECORDS =10\n",
    "\n",
    "#CNN constants\n",
    "N_COLUMNS = 4\n",
    "N_LENGTH = TIMESTEPS //N_COLUMNS\n",
    "N_ROWS =1"
   ]
  },
  {
   "cell_type": "code",
   "execution_count": 10,
   "id": "93a13321",
   "metadata": {},
   "outputs": [],
   "source": [
    "# Splitting the samples by class\n",
    "\n",
    "df_train_normal=train_set.loc[train_set['Class']==\"NORMAL\"]\n",
    "df_train_slow=train_set.loc[train_set['Class']==\"SLOW\"]\n",
    "df_train_aggressive=train_set.loc[train_set['Class']==\"AGGRESSIVE\"]\n"
   ]
  },
  {
   "cell_type": "code",
   "execution_count": 11,
   "id": "51bba235",
   "metadata": {},
   "outputs": [],
   "source": [
    "df_test_normal=test_set.loc[test_set['Class']==\"NORMAL\"]\n",
    "df_test_slow=test_set.loc[test_set['Class']==\"SLOW\"]\n",
    "df_test_aggressive=test_set.loc[test_set['Class']==\"AGGRESSIVE\"]"
   ]
  },
  {
   "cell_type": "markdown",
   "id": "466812d2",
   "metadata": {},
   "source": [
    "### Plotting 3 driving behaviours against accX , accY and accZ"
   ]
  },
  {
   "cell_type": "code",
   "execution_count": 12,
   "id": "d2dadf51",
   "metadata": {},
   "outputs": [
    {
     "data": {
      "image/png": "[encoded data removed]",
      "text/plain": [
       "<Figure size 432x288 with 1 Axes>"
      ]
     },
     "metadata": {
      "needs_background": "light"
     },
     "output_type": "display_data"
    }
   ],
   "source": [
    "plt.plot(df_train_normal['Timestamp'],df_train_normal['AccX'],label=\"Acceleration X\")\n",
    "plt.plot(df_train_normal['Timestamp'],df_train_normal['AccY'],label=\"Acceleration Y\")\n",
    "plt.plot(df_train_normal['Timestamp'],df_train_normal['AccZ'],label=\"Acceleration Z\")\n",
    "\n",
    "plt.title(\"Normal Driving Behaviour\")\n",
    "plt.xlabel(\"Timestamp\")\n",
    "plt.ylabel(\"Acceleration in m/s^2\")\n",
    "plt.legend(loc='upper left')\n",
    "plt.show()"
   ]
  },
  {
   "cell_type": "code",
   "execution_count": 13,
   "id": "5bf1c49a",
   "metadata": {},
   "outputs": [
    {
     "data": {
      "image/png": "[encoded data removed]",
      "text/plain": [
       "<Figure size 432x288 with 1 Axes>"
      ]
     },
     "metadata": {
      "needs_background": "light"
     },
     "output_type": "display_data"
    }
   ],
   "source": [
    "plt.plot(df_train_slow['Timestamp'],df_train_slow['AccX'],label=\"Acceleration X\")\n",
    "plt.plot(df_train_slow['Timestamp'],df_train_slow['AccY'],label=\"Acceleration Y\")\n",
    "plt.plot(df_train_slow['Timestamp'],df_train_slow['AccZ'],label=\"Acceleration Z\")\n",
    "\n",
    "plt.title(\"Slow Driving Behaviour\")\n",
    "plt.xlabel(\"Timestamp\")\n",
    "plt.ylabel(\"Acceleration in m/s^2\")\n",
    "plt.legend(loc='upper left')\n",
    "plt.show()"
   ]
  },
  {
   "cell_type": "code",
   "execution_count": 14,
   "id": "93feebe9",
   "metadata": {},
   "outputs": [
    {
     "data": {
      "image/png": "[encoded data removed]",
      "text/plain": [
       "<Figure size 432x288 with 1 Axes>"
      ]
     },
     "metadata": {
      "needs_background": "light"
     },
     "output_type": "display_data"
    }
   ],
   "source": [
    "plt.plot(df_train_aggressive['Timestamp'],df_train_aggressive['AccX'],label=\"Acceleration X\")\n",
    "plt.plot(df_train_aggressive['Timestamp'],df_train_aggressive['AccY'],label=\"Acceleration Y\")\n",
    "plt.plot(df_train_aggressive['Timestamp'],df_train_aggressive['AccZ'],label=\"Acceleration Z\")\n",
    "\n",
    "plt.title(\"Aggressive Driving Behaviour\")\n",
    "plt.xlabel(\"Timestamp\")\n",
    "plt.ylabel(\"Acceleration in m/s^2\")\n",
    "plt.legend(loc='upper left')\n",
    "plt.show()"
   ]
  },
  {
   "cell_type": "markdown",
   "id": "1546f857",
   "metadata": {},
   "source": [
    "### Plotting 3 driving behaviours against GyroX , GyroY and GyroZ"
   ]
  },
  {
   "cell_type": "code",
   "execution_count": 15,
   "id": "6fd94b06",
   "metadata": {},
   "outputs": [
    {
     "data": {
      "image/png": "[encoded data removed]",
      "text/plain": [
       "<Figure size 432x288 with 1 Axes>"
      ]
     },
     "metadata": {
      "needs_background": "light"
     },
     "output_type": "display_data"
    }
   ],
   "source": [
    "plt.plot(df_train_normal['Timestamp'],df_train_normal['GyroX'],label=\"Gyro X\")\n",
    "plt.plot(df_train_normal['Timestamp'],df_train_normal['GyroY'],label=\"Gyro Y\")\n",
    "plt.plot(df_train_normal['Timestamp'],df_train_normal['GyroZ'],label=\"Gyro Z\")\n",
    "\n",
    "plt.title(\"Normal Driving Behaviour (Gyroscope)\")\n",
    "plt.xlabel(\"Timestamp\")\n",
    "plt.ylabel(\"In degree/s\")\n",
    "plt.legend(loc='upper left')\n",
    "plt.show()"
   ]
  },
  {
   "cell_type": "code",
   "execution_count": 16,
   "id": "b96ce1de",
   "metadata": {},
   "outputs": [
    {
     "data": {
      "image/png": "[encoded data removed]",
      "text/plain": [
       "<Figure size 432x288 with 1 Axes>"
      ]
     },
     "metadata": {
      "needs_background": "light"
     },
     "output_type": "display_data"
    }
   ],
   "source": [
    "plt.plot(df_train_slow['Timestamp'],df_train_slow['GyroX'],label=\"Gyro X\")\n",
    "plt.plot(df_train_slow['Timestamp'],df_train_slow['GyroY'],label=\"Gyro Y\")\n",
    "plt.plot(df_train_slow['Timestamp'],df_train_slow['GyroZ'],label=\"Gyro Z\")\n",
    "\n",
    "plt.title(\"Slow Driving Behaviour (Gyroscope)\")\n",
    "plt.xlabel(\"Timestamp\")\n",
    "plt.ylabel(\"In degree/s\")\n",
    "plt.legend(loc='upper left')\n",
    "plt.show()"
   ]
  },
  {
   "cell_type": "code",
   "execution_count": 17,
   "id": "8f4e1e7b",
   "metadata": {},
   "outputs": [
    {
     "data": {
      "image/png": "[encoded data removed]",
      "text/plain": [
       "<Figure size 432x288 with 1 Axes>"
      ]
     },
     "metadata": {
      "needs_background": "light"
     },
     "output_type": "display_data"
    }
   ],
   "source": [
    "plt.plot(df_train_aggressive['Timestamp'],df_train_aggressive['GyroX'],label=\"Gyro X\")\n",
    "plt.plot(df_train_aggressive['Timestamp'],df_train_aggressive['GyroY'],label=\"Gyro Y\")\n",
    "plt.plot(df_train_aggressive['Timestamp'],df_train_aggressive['GyroZ'],label=\"Gyro Z\")\n",
    "\n",
    "plt.title(\"Aggressive Driving Behaviour (Gyroscope)\")\n",
    "plt.xlabel(\"Timestamp\")\n",
    "plt.ylabel(\"In degree/s\")\n",
    "plt.legend(loc='upper left')\n",
    "plt.show()"
   ]
  },
  {
   "cell_type": "markdown",
   "id": "1a068621",
   "metadata": {},
   "source": [
    "### Removing N_RECORDS data from first and last of each set that is caused due to class switching"
   ]
  },
  {
   "cell_type": "code",
   "execution_count": 18,
   "id": "e1a11d44",
   "metadata": {},
   "outputs": [],
   "source": [
    "df_train_slow= df_train_slow.iloc[N_RECORDS:]\n",
    "df_train_slow= df_train_slow.iloc[:-N_RECORDS]\n",
    "\n",
    "df_train_normal= df_train_normal.iloc[N_RECORDS:]\n",
    "df_train_normal= df_train_normal.iloc[:-N_RECORDS]\n",
    "\n",
    "df_train_aggressive= df_train_aggressive.iloc[N_RECORDS:]\n",
    "df_train_aggressive= df_train_aggressive.iloc[:-N_RECORDS]\n",
    "\n"
   ]
  },
  {
   "cell_type": "code",
   "execution_count": 19,
   "id": "bb15967e",
   "metadata": {},
   "outputs": [],
   "source": [
    "df_test_slow= df_test_slow.iloc[N_RECORDS:]\n",
    "df_test_slow= df_test_slow.iloc[:-N_RECORDS]\n",
    "\n",
    "df_test_normal= df_test_normal.iloc[N_RECORDS:]\n",
    "df_test_normal= df_test_normal.iloc[:-N_RECORDS]\n",
    "\n",
    "df_test_aggressive= df_test_aggressive.iloc[N_RECORDS:]\n",
    "df_test_aggressive= df_test_aggressive.iloc[:-N_RECORDS]\n"
   ]
  },
  {
   "cell_type": "code",
   "execution_count": 20,
   "id": "efc0a0cf",
   "metadata": {},
   "outputs": [
    {
     "name": "stdout",
     "output_type": "stream",
     "text": [
      "----Train----\n",
      "Slow samples: 1311\n",
      "Normal samples: 1180\n",
      "Aggressive samples: 1093\n"
     ]
    }
   ],
   "source": [
    "# Checking data per label\n",
    "\n",
    "print('----Train----')\n",
    "print(\"Slow samples: \"+str(df_train_slow.__len__()))\n",
    "print(\"Normal samples: \"+str(df_train_normal.__len__()))\n",
    "print(\"Aggressive samples: \"+str(df_train_aggressive.__len__()))\n",
    "\n",
    "df_train_slow=df_train_slow.tail(1300)\n",
    "df_train_normal=df_train_normal.tail(1160)\n",
    "df_train_aggressive=df_train_aggressive.tail(1080)\n"
   ]
  },
  {
   "cell_type": "code",
   "execution_count": 21,
   "id": "47de6077",
   "metadata": {},
   "outputs": [
    {
     "name": "stdout",
     "output_type": "stream",
     "text": [
      "----Test----\n",
      "Slow samples: 1253\n",
      "Normal samples: 977\n",
      "Aggressive samples: 794\n"
     ]
    }
   ],
   "source": [
    "print('----Test----')\n",
    "print(\"Slow samples: \"+str(df_test_slow.__len__()))\n",
    "print(\"Normal samples: \"+str(df_test_normal.__len__()))\n",
    "print(\"Aggressive samples: \"+str(df_test_aggressive.__len__()))\n",
    "\n",
    "df_test_slow=df_test_slow.tail(1250)\n",
    "df_test_normal=df_test_normal.tail(970)\n",
    "df_test_aggressive=df_test_aggressive.tail(790)"
   ]
  },
  {
   "cell_type": "code",
   "execution_count": 22,
   "id": "310be4a8",
   "metadata": {},
   "outputs": [
    {
     "data": {
      "text/html": [
       "<div>\n",
       "<style scoped>\n",
       "    .dataframe tbody tr th:only-of-type {\n",
       "        vertical-align: middle;\n",
       "    }\n",
       "\n",
       "    .dataframe tbody tr th {\n",
       "        vertical-align: top;\n",
       "    }\n",
       "\n",
       "    .dataframe thead th {\n",
       "        text-align: right;\n",
       "    }\n",
       "</style>\n",
       "<table border=\"1\" class=\"dataframe\">\n",
       "  <thead>\n",
       "    <tr style=\"text-align: right;\">\n",
       "      <th></th>\n",
       "      <th>AccX</th>\n",
       "      <th>AccY</th>\n",
       "      <th>AccZ</th>\n",
       "      <th>GyroX</th>\n",
       "      <th>GyroY</th>\n",
       "      <th>GyroZ</th>\n",
       "    </tr>\n",
       "  </thead>\n",
       "  <tbody>\n",
       "    <tr>\n",
       "      <th>30</th>\n",
       "      <td>-2.311000</td>\n",
       "      <td>-0.000236</td>\n",
       "      <td>1.234169</td>\n",
       "      <td>0.013592</td>\n",
       "      <td>-0.145386</td>\n",
       "      <td>-0.044670</td>\n",
       "    </tr>\n",
       "    <tr>\n",
       "      <th>31</th>\n",
       "      <td>-1.235491</td>\n",
       "      <td>-1.186430</td>\n",
       "      <td>-0.450856</td>\n",
       "      <td>-0.000458</td>\n",
       "      <td>0.058032</td>\n",
       "      <td>-0.017181</td>\n",
       "    </tr>\n",
       "    <tr>\n",
       "      <th>32</th>\n",
       "      <td>-0.057978</td>\n",
       "      <td>-1.254435</td>\n",
       "      <td>-1.226808</td>\n",
       "      <td>-0.029780</td>\n",
       "      <td>0.015272</td>\n",
       "      <td>0.031689</td>\n",
       "    </tr>\n",
       "    <tr>\n",
       "      <th>33</th>\n",
       "      <td>0.735135</td>\n",
       "      <td>-0.594205</td>\n",
       "      <td>0.560677</td>\n",
       "      <td>0.009927</td>\n",
       "      <td>-0.021991</td>\n",
       "      <td>-0.016570</td>\n",
       "    </tr>\n",
       "    <tr>\n",
       "      <th>34</th>\n",
       "      <td>-0.184486</td>\n",
       "      <td>-0.286318</td>\n",
       "      <td>0.456868</td>\n",
       "      <td>-0.016952</td>\n",
       "      <td>-0.018937</td>\n",
       "      <td>-0.009850</td>\n",
       "    </tr>\n",
       "    <tr>\n",
       "      <th>...</th>\n",
       "      <td>...</td>\n",
       "      <td>...</td>\n",
       "      <td>...</td>\n",
       "      <td>...</td>\n",
       "      <td>...</td>\n",
       "      <td>...</td>\n",
       "    </tr>\n",
       "    <tr>\n",
       "      <th>1185</th>\n",
       "      <td>-2.784989</td>\n",
       "      <td>-0.799035</td>\n",
       "      <td>1.176996</td>\n",
       "      <td>0.123547</td>\n",
       "      <td>-0.031154</td>\n",
       "      <td>0.564974</td>\n",
       "    </tr>\n",
       "    <tr>\n",
       "      <th>1186</th>\n",
       "      <td>0.015490</td>\n",
       "      <td>-0.433339</td>\n",
       "      <td>0.655057</td>\n",
       "      <td>0.108276</td>\n",
       "      <td>0.000611</td>\n",
       "      <td>0.630947</td>\n",
       "    </tr>\n",
       "    <tr>\n",
       "      <th>1187</th>\n",
       "      <td>-0.105201</td>\n",
       "      <td>-0.721263</td>\n",
       "      <td>0.783494</td>\n",
       "      <td>0.138208</td>\n",
       "      <td>-0.003665</td>\n",
       "      <td>0.632780</td>\n",
       "    </tr>\n",
       "    <tr>\n",
       "      <th>1188</th>\n",
       "      <td>-0.507179</td>\n",
       "      <td>-1.385926</td>\n",
       "      <td>0.045160</td>\n",
       "      <td>0.114995</td>\n",
       "      <td>-0.073304</td>\n",
       "      <td>0.643165</td>\n",
       "    </tr>\n",
       "    <tr>\n",
       "      <th>1189</th>\n",
       "      <td>0.296745</td>\n",
       "      <td>-0.305717</td>\n",
       "      <td>-0.284837</td>\n",
       "      <td>0.114995</td>\n",
       "      <td>-0.073915</td>\n",
       "      <td>0.568028</td>\n",
       "    </tr>\n",
       "  </tbody>\n",
       "</table>\n",
       "<p>1160 rows × 6 columns</p>\n",
       "</div>"
      ],
      "text/plain": [
       "          AccX      AccY      AccZ     GyroX     GyroY     GyroZ\n",
       "30   -2.311000 -0.000236  1.234169  0.013592 -0.145386 -0.044670\n",
       "31   -1.235491 -1.186430 -0.450856 -0.000458  0.058032 -0.017181\n",
       "32   -0.057978 -1.254435 -1.226808 -0.029780  0.015272  0.031689\n",
       "33    0.735135 -0.594205  0.560677  0.009927 -0.021991 -0.016570\n",
       "34   -0.184486 -0.286318  0.456868 -0.016952 -0.018937 -0.009850\n",
       "...        ...       ...       ...       ...       ...       ...\n",
       "1185 -2.784989 -0.799035  1.176996  0.123547 -0.031154  0.564974\n",
       "1186  0.015490 -0.433339  0.655057  0.108276  0.000611  0.630947\n",
       "1187 -0.105201 -0.721263  0.783494  0.138208 -0.003665  0.632780\n",
       "1188 -0.507179 -1.385926  0.045160  0.114995 -0.073304  0.643165\n",
       "1189  0.296745 -0.305717 -0.284837  0.114995 -0.073915  0.568028\n",
       "\n",
       "[1160 rows x 6 columns]"
      ]
     },
     "execution_count": 22,
     "metadata": {},
     "output_type": "execute_result"
    }
   ],
   "source": [
    "#separating features from labels\n",
    "\n",
    "#train\n",
    "X_train_normal = df_train_normal.iloc[:,:FEATURES]\n",
    "X_train_slow = df_train_slow.iloc[:,:FEATURES]\n",
    "X_train_aggressive = df_train_aggressive.iloc[:,:FEATURES]\n",
    "\n",
    "#test\n",
    "X_test_normal = df_test_normal.iloc[:,:FEATURES]\n",
    "X_test_slow = df_test_slow.iloc[:,:FEATURES]\n",
    "X_test_aggressive = df_test_aggressive.iloc[:,:FEATURES]\n",
    "\n",
    "#train\n",
    "Y_train_normal=df_train_normal.Class\n",
    "Y_train_slow=df_train_slow.Class\n",
    "Y_train_aggressive=df_train_aggressive.Class\n",
    "\n",
    "Y_test_normal=df_test_normal.Class\n",
    "Y_test_slow=df_test_slow.Class\n",
    "Y_test_aggressive=df_test_aggressive.Class\n",
    "X_train_normal\n",
    "\n",
    "\n"
   ]
  },
  {
   "cell_type": "code",
   "execution_count": 23,
   "id": "74ed41ac",
   "metadata": {},
   "outputs": [
    {
     "data": {
      "text/plain": [
       "30          NORMAL\n",
       "31          NORMAL\n",
       "32          NORMAL\n",
       "33          NORMAL\n",
       "34          NORMAL\n",
       "           ...    \n",
       "2298    AGGRESSIVE\n",
       "2299    AGGRESSIVE\n",
       "2300    AGGRESSIVE\n",
       "2301    AGGRESSIVE\n",
       "2302    AGGRESSIVE\n",
       "Name: Class, Length: 2240, dtype: object"
      ]
     },
     "execution_count": 23,
     "metadata": {},
     "output_type": "execute_result"
    }
   ],
   "source": [
    "# combine all the samples into a train and test dataset\n",
    "\n",
    "X_train=pd.concat([X_train_normal,X_train_aggressive])\n",
    "Y_train=pd.concat([Y_train_normal,Y_train_aggressive])\n",
    "\n",
    "X_test=pd.concat([X_test_normal,X_test_aggressive])\n",
    "Y_test=pd.concat([Y_test_normal,Y_test_aggressive])\n",
    "'''X_train'''\n",
    "Y_train\n"
   ]
  },
  {
   "cell_type": "code",
   "execution_count": 24,
   "id": "c2205a28",
   "metadata": {},
   "outputs": [],
   "source": [
    "# Mapping labels to numbers\n",
    "labelEncoder = LabelEncoder()\n",
    "Y_train=labelEncoder.fit_transform(Y_train)\n",
    "Y_test=labelEncoder.transform(Y_test)"
   ]
  },
  {
   "cell_type": "code",
   "execution_count": 25,
   "id": "cf54c20e",
   "metadata": {},
   "outputs": [],
   "source": [
    "# Converting to one hot encoded vectors\n",
    "Y_train = to_categorical(Y_train, num_classes=LABELS)\n",
    "Y_test = to_categorical(Y_test, num_classes=LABELS)"
   ]
  },
  {
   "cell_type": "code",
   "execution_count": 26,
   "id": "3014467e",
   "metadata": {},
   "outputs": [],
   "source": [
    "# scaling data\n",
    "scaler = StandardScaler(with_mean = True , with_std=True)\n",
    "X_train = scaler.fit_transform(X_train)\n",
    "X_test = scaler.transform(X_test)"
   ]
  },
  {
   "cell_type": "code",
   "execution_count": 27,
   "id": "edef5c3c",
   "metadata": {},
   "outputs": [
    {
     "name": "stdout",
     "output_type": "stream",
     "text": [
      "Train features shape: 112\n",
      "Test features shape:88\n"
     ]
    }
   ],
   "source": [
    "#Reshaping the input for the Conv_LSTM network (Features)\n",
    "train_samples = X_train.shape[0]//TIMESTEPS\n",
    "X_train =X_train.reshape(train_samples, N_COLUMNS, N_ROWS, N_LENGTH, FEATURES)\n",
    "\n",
    "\n",
    "test_samples = X_test.shape[0]//TIMESTEPS\n",
    "X_test =X_test.reshape(test_samples, N_COLUMNS, N_ROWS, N_LENGTH, FEATURES)\n",
    "\n",
    "print('Train features shape: '+str(X_train.shape[0]))\n",
    "print('Test features shape:' + str(X_test.shape[0]))"
   ]
  },
  {
   "cell_type": "code",
   "execution_count": 28,
   "id": "b684bf37",
   "metadata": {},
   "outputs": [
    {
     "name": "stdout",
     "output_type": "stream",
     "text": [
      "Train labels shape: 112\n",
      "Test labels shape: 88\n"
     ]
    }
   ],
   "source": [
    "Y_train=Y_train[::TIMESTEPS]\n",
    "Y_test=Y_test[::TIMESTEPS]\n",
    "\n",
    "print('Train labels shape: '+str(Y_train.shape[0]))\n",
    "print('Test labels shape: '+str(Y_test.shape[0]))"
   ]
  },
  {
   "cell_type": "code",
   "execution_count": 29,
   "id": "4627c41e",
   "metadata": {},
   "outputs": [],
   "source": [
    "tf.random.set_seed(42)\n",
    "\n",
    "# Build the model by assigning\n",
    "# the number of layers and number of neurons for each layer\n",
    "# the learning rate\n",
    "# the number of epochs\n",
    "# ------------------------------------------------------------------------\n",
    "# To get these optimal parameters I will use the Keras Tuner library\n",
    "# so it will get the optimal parameters for the NN\n",
    "# and pass it to the model_builder function\n",
    "def model_builder(hp):\n",
    "    model = tf.keras.Sequential()\n",
    "\n",
    "    model.add(\n",
    "        ConvLSTM2D(\n",
    "            filters=hp.Int('filter_units', min_value=16, max_value=64, step=16),\n",
    "            kernel_size=(1,3), \n",
    "            activation='relu', \n",
    "            input_shape=(N_COLUMNS, N_ROWS, N_LENGTH, FEATURES)\n",
    "            )\n",
    "        )\n",
    "        \n",
    "    model.add(Dropout(hp.Float('dropout_0_rate', min_value=0, max_value=0.5, step=0.1)))\n",
    "\n",
    "    model.add(Flatten())\n",
    "\n",
    "    model.add(Dense(hp.Int('dense_units', min_value=32, max_value=512, step=32), activation='relu'))\n",
    "\n",
    "    model.add(Dense(LABELS, activation='softmax'))\n",
    "    \n",
    "\n",
    "    # Tune the learning rate for the optimizer\n",
    "    # Choose an optimal value from 0.1, 0.01, 0.001, or 0.0001\n",
    "    hp_learning_rate = hp.Choice('learning_rate', values=[1e-1, 1e-2, 1e-3, 1e-4])\n",
    "\n",
    "    model.compile(\n",
    "        loss=tf.keras.losses.BinaryCrossentropy(),\n",
    "        optimizer=tf.keras.optimizers.Adam(learning_rate=hp_learning_rate),\n",
    "        metrics=[\n",
    "            tf.keras.metrics.BinaryAccuracy(name='accuracy'),\n",
    "            tf.keras.metrics.Precision(name='precision'),\n",
    "            tf.keras.metrics.Recall(name='recall')\n",
    "        ]\n",
    "    )\n",
    "\n",
    "    return model"
   ]
  },
  {
   "cell_type": "code",
   "execution_count": 30,
   "id": "392b9e75",
   "metadata": {},
   "outputs": [],
   "source": [
    "# To be able to get the optimal parameters for our network\n",
    "# we have to create a Tuner with the following setup\n",
    "# 'objective' -> will use to create test models\n",
    "# 'max_epochs' -> the maximum number of epochs to train one model\n",
    "# 'factor' -> the reduction factor for the number of epochs and number of models for each bracket\n",
    "# 'directory' -> will save the training history there\n",
    "tuner= kt.Hyperband(model_builder,\n",
    "                   objective='val_accuracy',\n",
    "                   max_epochs=50,\n",
    "                   factor=3,\n",
    "                   directory='bin_conv_lstm_dir',\n",
    "                   project_name='driving_behaviour')"
   ]
  },
  {
   "cell_type": "code",
   "execution_count": 31,
   "id": "4ae78ab7",
   "metadata": {},
   "outputs": [],
   "source": [
    "#Stop early function\n",
    "stop_early=tf.keras.callbacks.EarlyStopping(monitor='val_loss',patience=5)"
   ]
  },
  {
   "cell_type": "code",
   "execution_count": 32,
   "id": "1a2a66d8",
   "metadata": {},
   "outputs": [
    {
     "name": "stdout",
     "output_type": "stream",
     "text": [
      "Trial 90 Complete [00h 00m 07s]\n",
      "val_accuracy: 0.75\n",
      "\n",
      "Best val_accuracy So Far: 0.7727272510528564\n",
      "Total elapsed time: 00h 10m 16s\n",
      "INFO:tensorflow:Oracle triggered exit\n"
     ]
    }
   ],
   "source": [
    "#considering the top_performing mode\n",
    "\n",
    "tuner.search(\n",
    "    x=X_train,\n",
    "    y=Y_train,\n",
    "    epochs=50,\n",
    "    validation_data=(X_test, Y_test),\n",
    "    callbacks=[stop_early],\n",
    "    shuffle=True\n",
    ")"
   ]
  },
  {
   "cell_type": "code",
   "execution_count": 33,
   "id": "2bb8770e",
   "metadata": {},
   "outputs": [],
   "source": [
    "# Get best hyperparameters that were found during the search\n",
    "best_model = tuner.get_best_models()[0]"
   ]
  },
  {
   "cell_type": "code",
   "execution_count": 35,
   "id": "374335da",
   "metadata": {},
   "outputs": [
    {
     "name": "stdout",
     "output_type": "stream",
     "text": [
      "3/3 [==============================] - 1s 7ms/step - loss: 0.9832 - accuracy: 0.7727 - precision: 0.7727 - recall: 0.7727\n"
     ]
    }
   ],
   "source": [
    "# Get the metrics for our trained model\n",
    "eval_result = best_model.evaluate(X_test, Y_test)"
   ]
  },
  {
   "cell_type": "code",
   "execution_count": 36,
   "id": "ae0176ca",
   "metadata": {},
   "outputs": [
    {
     "name": "stdout",
     "output_type": "stream",
     "text": [
      "3/3 [==============================] - 0s 7ms/step\n"
     ]
    }
   ],
   "source": [
    "# Get the predictions\n",
    "Y_pred=best_model.predict(x=X_test)"
   ]
  },
  {
   "cell_type": "code",
   "execution_count": 37,
   "id": "e94a551a",
   "metadata": {},
   "outputs": [
    {
     "data": {
      "text/html": [
       "<div>\n",
       "<style scoped>\n",
       "    .dataframe tbody tr th:only-of-type {\n",
       "        vertical-align: middle;\n",
       "    }\n",
       "\n",
       "    .dataframe tbody tr th {\n",
       "        vertical-align: top;\n",
       "    }\n",
       "\n",
       "    .dataframe thead th {\n",
       "        text-align: right;\n",
       "    }\n",
       "</style>\n",
       "<table border=\"1\" class=\"dataframe\">\n",
       "  <thead>\n",
       "    <tr style=\"text-align: right;\">\n",
       "      <th></th>\n",
       "      <th>AGGRESSIVE</th>\n",
       "      <th>NORMAL</th>\n",
       "    </tr>\n",
       "  </thead>\n",
       "  <tbody>\n",
       "    <tr>\n",
       "      <th>0</th>\n",
       "      <td>0.088832</td>\n",
       "      <td>9.111681e-01</td>\n",
       "    </tr>\n",
       "    <tr>\n",
       "      <th>1</th>\n",
       "      <td>0.133033</td>\n",
       "      <td>8.669667e-01</td>\n",
       "    </tr>\n",
       "    <tr>\n",
       "      <th>2</th>\n",
       "      <td>0.011653</td>\n",
       "      <td>9.883472e-01</td>\n",
       "    </tr>\n",
       "    <tr>\n",
       "      <th>3</th>\n",
       "      <td>0.999637</td>\n",
       "      <td>3.630825e-04</td>\n",
       "    </tr>\n",
       "    <tr>\n",
       "      <th>4</th>\n",
       "      <td>0.167469</td>\n",
       "      <td>8.325307e-01</td>\n",
       "    </tr>\n",
       "    <tr>\n",
       "      <th>...</th>\n",
       "      <td>...</td>\n",
       "      <td>...</td>\n",
       "    </tr>\n",
       "    <tr>\n",
       "      <th>83</th>\n",
       "      <td>0.987520</td>\n",
       "      <td>1.247952e-02</td>\n",
       "    </tr>\n",
       "    <tr>\n",
       "      <th>84</th>\n",
       "      <td>0.999986</td>\n",
       "      <td>1.429612e-05</td>\n",
       "    </tr>\n",
       "    <tr>\n",
       "      <th>85</th>\n",
       "      <td>0.999747</td>\n",
       "      <td>2.534798e-04</td>\n",
       "    </tr>\n",
       "    <tr>\n",
       "      <th>86</th>\n",
       "      <td>0.942746</td>\n",
       "      <td>5.725451e-02</td>\n",
       "    </tr>\n",
       "    <tr>\n",
       "      <th>87</th>\n",
       "      <td>1.000000</td>\n",
       "      <td>2.454298e-07</td>\n",
       "    </tr>\n",
       "  </tbody>\n",
       "</table>\n",
       "<p>88 rows × 2 columns</p>\n",
       "</div>"
      ],
      "text/plain": [
       "    AGGRESSIVE        NORMAL\n",
       "0     0.088832  9.111681e-01\n",
       "1     0.133033  8.669667e-01\n",
       "2     0.011653  9.883472e-01\n",
       "3     0.999637  3.630825e-04\n",
       "4     0.167469  8.325307e-01\n",
       "..         ...           ...\n",
       "83    0.987520  1.247952e-02\n",
       "84    0.999986  1.429612e-05\n",
       "85    0.999747  2.534798e-04\n",
       "86    0.942746  5.725451e-02\n",
       "87    1.000000  2.454298e-07\n",
       "\n",
       "[88 rows x 2 columns]"
      ]
     },
     "execution_count": 37,
     "metadata": {},
     "output_type": "execute_result"
    }
   ],
   "source": [
    "# Transform the predicted scores array to a pretty Dataframe\n",
    "df_predicted = pd.DataFrame(Y_pred, columns=['AGGRESSIVE', 'NORMAL'])\n",
    "df_predicted"
   ]
  },
  {
   "cell_type": "code",
   "execution_count": 39,
   "id": "cc8b790c",
   "metadata": {},
   "outputs": [
    {
     "data": {
      "text/html": [
       "<div>\n",
       "<style scoped>\n",
       "    .dataframe tbody tr th:only-of-type {\n",
       "        vertical-align: middle;\n",
       "    }\n",
       "\n",
       "    .dataframe tbody tr th {\n",
       "        vertical-align: top;\n",
       "    }\n",
       "\n",
       "    .dataframe thead th {\n",
       "        text-align: right;\n",
       "    }\n",
       "</style>\n",
       "<table border=\"1\" class=\"dataframe\">\n",
       "  <thead>\n",
       "    <tr style=\"text-align: right;\">\n",
       "      <th></th>\n",
       "      <th>Original Class</th>\n",
       "    </tr>\n",
       "  </thead>\n",
       "  <tbody>\n",
       "    <tr>\n",
       "      <th>0</th>\n",
       "      <td>NORMAL</td>\n",
       "    </tr>\n",
       "    <tr>\n",
       "      <th>1</th>\n",
       "      <td>NORMAL</td>\n",
       "    </tr>\n",
       "    <tr>\n",
       "      <th>2</th>\n",
       "      <td>NORMAL</td>\n",
       "    </tr>\n",
       "    <tr>\n",
       "      <th>3</th>\n",
       "      <td>NORMAL</td>\n",
       "    </tr>\n",
       "    <tr>\n",
       "      <th>4</th>\n",
       "      <td>NORMAL</td>\n",
       "    </tr>\n",
       "    <tr>\n",
       "      <th>...</th>\n",
       "      <td>...</td>\n",
       "    </tr>\n",
       "    <tr>\n",
       "      <th>83</th>\n",
       "      <td>AGGRESSIVE</td>\n",
       "    </tr>\n",
       "    <tr>\n",
       "      <th>84</th>\n",
       "      <td>AGGRESSIVE</td>\n",
       "    </tr>\n",
       "    <tr>\n",
       "      <th>85</th>\n",
       "      <td>AGGRESSIVE</td>\n",
       "    </tr>\n",
       "    <tr>\n",
       "      <th>86</th>\n",
       "      <td>AGGRESSIVE</td>\n",
       "    </tr>\n",
       "    <tr>\n",
       "      <th>87</th>\n",
       "      <td>AGGRESSIVE</td>\n",
       "    </tr>\n",
       "  </tbody>\n",
       "</table>\n",
       "<p>88 rows × 1 columns</p>\n",
       "</div>"
      ],
      "text/plain": [
       "   Original Class\n",
       "0          NORMAL\n",
       "1          NORMAL\n",
       "2          NORMAL\n",
       "3          NORMAL\n",
       "4          NORMAL\n",
       "..            ...\n",
       "83     AGGRESSIVE\n",
       "84     AGGRESSIVE\n",
       "85     AGGRESSIVE\n",
       "86     AGGRESSIVE\n",
       "87     AGGRESSIVE\n",
       "\n",
       "[88 rows x 1 columns]"
      ]
     },
     "execution_count": 39,
     "metadata": {},
     "output_type": "execute_result"
    }
   ],
   "source": [
    "# Reverse the one hot encoded vector\n",
    "actual_y_test = np.argmax(Y_test, axis=1)\n",
    "array_actual = labelEncoder.inverse_transform(actual_y_test)\n",
    "\n",
    "# Transform the given class array to a Dataframe\n",
    "df_actual = pd.DataFrame(array_actual, columns = ['Original Class'])\n",
    "df_actual"
   ]
  },
  {
   "cell_type": "code",
   "execution_count": 40,
   "id": "b8bdbf99",
   "metadata": {},
   "outputs": [
    {
     "data": {
      "text/html": [
       "<div>\n",
       "<style scoped>\n",
       "    .dataframe tbody tr th:only-of-type {\n",
       "        vertical-align: middle;\n",
       "    }\n",
       "\n",
       "    .dataframe tbody tr th {\n",
       "        vertical-align: top;\n",
       "    }\n",
       "\n",
       "    .dataframe thead th {\n",
       "        text-align: right;\n",
       "    }\n",
       "</style>\n",
       "<table border=\"1\" class=\"dataframe\">\n",
       "  <thead>\n",
       "    <tr style=\"text-align: right;\">\n",
       "      <th></th>\n",
       "      <th>AGGRESSIVE</th>\n",
       "      <th>NORMAL</th>\n",
       "      <th>Original Class</th>\n",
       "    </tr>\n",
       "  </thead>\n",
       "  <tbody>\n",
       "    <tr>\n",
       "      <th>0</th>\n",
       "      <td>0.088832</td>\n",
       "      <td>9.111681e-01</td>\n",
       "      <td>NORMAL</td>\n",
       "    </tr>\n",
       "    <tr>\n",
       "      <th>1</th>\n",
       "      <td>0.133033</td>\n",
       "      <td>8.669667e-01</td>\n",
       "      <td>NORMAL</td>\n",
       "    </tr>\n",
       "    <tr>\n",
       "      <th>2</th>\n",
       "      <td>0.011653</td>\n",
       "      <td>9.883472e-01</td>\n",
       "      <td>NORMAL</td>\n",
       "    </tr>\n",
       "    <tr>\n",
       "      <th>3</th>\n",
       "      <td>0.999637</td>\n",
       "      <td>3.630825e-04</td>\n",
       "      <td>NORMAL</td>\n",
       "    </tr>\n",
       "    <tr>\n",
       "      <th>4</th>\n",
       "      <td>0.167469</td>\n",
       "      <td>8.325307e-01</td>\n",
       "      <td>NORMAL</td>\n",
       "    </tr>\n",
       "    <tr>\n",
       "      <th>...</th>\n",
       "      <td>...</td>\n",
       "      <td>...</td>\n",
       "      <td>...</td>\n",
       "    </tr>\n",
       "    <tr>\n",
       "      <th>83</th>\n",
       "      <td>0.987520</td>\n",
       "      <td>1.247952e-02</td>\n",
       "      <td>AGGRESSIVE</td>\n",
       "    </tr>\n",
       "    <tr>\n",
       "      <th>84</th>\n",
       "      <td>0.999986</td>\n",
       "      <td>1.429612e-05</td>\n",
       "      <td>AGGRESSIVE</td>\n",
       "    </tr>\n",
       "    <tr>\n",
       "      <th>85</th>\n",
       "      <td>0.999747</td>\n",
       "      <td>2.534798e-04</td>\n",
       "      <td>AGGRESSIVE</td>\n",
       "    </tr>\n",
       "    <tr>\n",
       "      <th>86</th>\n",
       "      <td>0.942746</td>\n",
       "      <td>5.725451e-02</td>\n",
       "      <td>AGGRESSIVE</td>\n",
       "    </tr>\n",
       "    <tr>\n",
       "      <th>87</th>\n",
       "      <td>1.000000</td>\n",
       "      <td>2.454298e-07</td>\n",
       "      <td>AGGRESSIVE</td>\n",
       "    </tr>\n",
       "  </tbody>\n",
       "</table>\n",
       "<p>88 rows × 3 columns</p>\n",
       "</div>"
      ],
      "text/plain": [
       "    AGGRESSIVE        NORMAL Original Class\n",
       "0     0.088832  9.111681e-01         NORMAL\n",
       "1     0.133033  8.669667e-01         NORMAL\n",
       "2     0.011653  9.883472e-01         NORMAL\n",
       "3     0.999637  3.630825e-04         NORMAL\n",
       "4     0.167469  8.325307e-01         NORMAL\n",
       "..         ...           ...            ...\n",
       "83    0.987520  1.247952e-02     AGGRESSIVE\n",
       "84    0.999986  1.429612e-05     AGGRESSIVE\n",
       "85    0.999747  2.534798e-04     AGGRESSIVE\n",
       "86    0.942746  5.725451e-02     AGGRESSIVE\n",
       "87    1.000000  2.454298e-07     AGGRESSIVE\n",
       "\n",
       "[88 rows x 3 columns]"
      ]
     },
     "execution_count": 40,
     "metadata": {},
     "output_type": "execute_result"
    }
   ],
   "source": [
    "# Combine the actual and resulted classes\n",
    "df_result = pd.concat([df_predicted, df_actual], axis=1)\n",
    "df_result"
   ]
  },
  {
   "cell_type": "code",
   "execution_count": 42,
   "id": "1f78be49",
   "metadata": {},
   "outputs": [
    {
     "data": {
      "image/png": "[encoded data removed]",
      "text/plain": [
       "<Figure size 432x288 with 2 Axes>"
      ]
     },
     "metadata": {
      "needs_background": "light"
     },
     "output_type": "display_data"
    }
   ],
   "source": [
    "Y_pred = np.argmax(Y_pred, axis=1)\n",
    "cm = confusion_matrix(actual_y_test, Y_pred)\n",
    "\n",
    "classes = ['AGGRESSIVE', 'NORMAL']\n",
    "disp = ConfusionMatrixDisplay.from_predictions(actual_y_test, Y_pred, display_labels=classes)\n",
    "\n",
    "plt.rcParams['figure.figsize'] = [20, 10]\n",
    "plt.show()\n"
   ]
  },
  {
   "cell_type": "code",
   "execution_count": null,
   "id": "196e523b",
   "metadata": {},
   "outputs": [],
   "source": []
  }
 ],
 "metadata": {
  "kernelspec": {
   "display_name": "Python 3 (ipykernel)",
   "language": "python",
   "name": "python3"
  },
  "language_info": {
   "codemirror_mode": {
    "name": "ipython",
    "version": 3
   },
   "file_extension": ".py",
   "mimetype": "text/x-python",
   "name": "python",
   "nbconvert_exporter": "python",
   "pygments_lexer": "ipython3",
   "version": "3.10.4"
  }
 },
 "nbformat": 4,
 "nbformat_minor": 5
}
