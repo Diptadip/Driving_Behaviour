{
 "cells": [
  {
   "cell_type": "markdown",
   "id": "5cae7d45",
   "metadata": {},
   "source": [
    "### Importing modules"
   ]
  },
  {
   "cell_type": "code",
   "execution_count": null,
   "id": "75f5ddc2",
   "metadata": {},
   "outputs": [],
   "source": [
    "!pip install tensorflow"
   ]
  },
  {
   "cell_type": "code",
   "execution_count": null,
   "id": "4335d9a0",
   "metadata": {},
   "outputs": [],
   "source": [
    "!pip install keras-tuner --upgrade"
   ]
  },
  {
   "cell_type": "code",
   "execution_count": null,
   "id": "5a3f6ba0",
   "metadata": {},
   "outputs": [],
   "source": [
    "import numpy as np\n",
    "import pandas as pd\n",
    "import matplotlib.pyplot as plt\n",
    "from sklearn.preprocessing import LabelEncoder,StandardScaler\n",
    "from tensorflow.keras.utils import to_categorical\n",
    "import tensorflow as tf\n",
    "from tensorflow import keras, lite\n",
    "from tensorflow.keras.layers import LSTM, Dense , Dropout, Flatten, ConvLSTM2D, RepeatVector\n",
    "import keras_tuner as kt"
   ]
  },
  {
   "cell_type": "markdown",
   "id": "76ed3bd0",
   "metadata": {},
   "source": [
    "### Data preparation"
   ]
  },
  {
   "cell_type": "code",
   "execution_count": null,
   "id": "2d7881e2",
   "metadata": {},
   "outputs": [],
   "source": [
    "train_set= pd.read_csv(\"Data/train_motion_data.csv\")\n",
    "test_set=pd.read_csv(\"Data/test_motion_data.csv\")"
   ]
  },
  {
   "cell_type": "code",
   "execution_count": null,
   "id": "216cefca",
   "metadata": {},
   "outputs": [],
   "source": [
    "train_set"
   ]
  },
  {
   "cell_type": "code",
   "execution_count": null,
   "id": "1a08a12d",
   "metadata": {},
   "outputs": [],
   "source": [
    "test_set"
   ]
  },
  {
   "cell_type": "code",
   "execution_count": null,
   "id": "1452d208",
   "metadata": {},
   "outputs": [],
   "source": [
    "# Global constants\n",
    "TIMESTEPS =20\n",
    "FEATURES =6\n",
    "LABELS=2\n",
    "N_RECORDS =10\n",
    "\n",
    "#CNN constants\n",
    "N_COLUMNS = 4\n",
    "N_LENGTH = TIMESTEPS //N_COLUMNS\n",
    "N_ROWS =1"
   ]
  },
  {
   "cell_type": "code",
   "execution_count": null,
   "id": "93a13321",
   "metadata": {},
   "outputs": [],
   "source": [
    "# Splitting the samples by class\n",
    "\n",
    "df_train_normal=train_set.loc[train_set['Class']==\"NORMAL\"]\n",
    "df_train_slow=train_set.loc[train_set['Class']==\"SLOW\"]\n",
    "df_train_aggressive=train_set.loc[train_set['Class']==\"AGGRESSIVE\"]\n"
   ]
  },
  {
   "cell_type": "code",
   "execution_count": null,
   "id": "51bba235",
   "metadata": {},
   "outputs": [],
   "source": [
    "df_test_normal=test_set.loc[test_set['Class']==\"NORMAL\"]\n",
    "df_test_slow=test_set.loc[test_set['Class']==\"SLOW\"]\n",
    "df_test_aggressive=test_set.loc[test_set['Class']==\"AGGRESSIVE\"]"
   ]
  },
  {
   "cell_type": "markdown",
   "id": "466812d2",
   "metadata": {},
   "source": [
    "### Plotting 3 driving behaviours against accX , accY and accZ"
   ]
  },
  {
   "cell_type": "code",
   "execution_count": null,
   "id": "d2dadf51",
   "metadata": {},
   "outputs": [],
   "source": [
    "plt.plot(df_train_normal['Timestamp'],df_train_normal['AccX'],label=\"Acceleration X\")\n",
    "plt.plot(df_train_normal['Timestamp'],df_train_normal['AccY'],label=\"Acceleration Y\")\n",
    "plt.plot(df_train_normal['Timestamp'],df_train_normal['AccZ'],label=\"Acceleration Z\")\n",
    "\n",
    "plt.title(\"Normal Driving Behaviour\")\n",
    "plt.xlabel(\"Timestamp\")\n",
    "plt.ylabel(\"Acceleration in m/s^2\")\n",
    "plt.legend(loc='upper left')\n",
    "plt.show()"
   ]
  },
  {
   "cell_type": "code",
   "execution_count": null,
   "id": "5bf1c49a",
   "metadata": {},
   "outputs": [],
   "source": [
    "plt.plot(df_train_slow['Timestamp'],df_train_slow['AccX'],label=\"Acceleration X\")\n",
    "plt.plot(df_train_slow['Timestamp'],df_train_slow['AccY'],label=\"Acceleration Y\")\n",
    "plt.plot(df_train_slow['Timestamp'],df_train_slow['AccZ'],label=\"Acceleration Z\")\n",
    "\n",
    "plt.title(\"Slow Driving Behaviour\")\n",
    "plt.xlabel(\"Timestamp\")\n",
    "plt.ylabel(\"Acceleration in m/s^2\")\n",
    "plt.legend(loc='upper left')\n",
    "plt.show()"
   ]
  },
  {
   "cell_type": "code",
   "execution_count": null,
   "id": "93feebe9",
   "metadata": {},
   "outputs": [],
   "source": [
    "plt.plot(df_train_aggressive['Timestamp'],df_train_aggressive['AccX'],label=\"Acceleration X\")\n",
    "plt.plot(df_train_aggressive['Timestamp'],df_train_aggressive['AccY'],label=\"Acceleration Y\")\n",
    "plt.plot(df_train_aggressive['Timestamp'],df_train_aggressive['AccZ'],label=\"Acceleration Z\")\n",
    "\n",
    "plt.title(\"Aggressive Driving Behaviour\")\n",
    "plt.xlabel(\"Timestamp\")\n",
    "plt.ylabel(\"Acceleration in m/s^2\")\n",
    "plt.legend(loc='upper left')\n",
    "plt.show()"
   ]
  },
  {
   "cell_type": "markdown",
   "id": "1546f857",
   "metadata": {},
   "source": [
    "### Plotting 3 driving behaviours against GyroX , GyroY and GyroZ"
   ]
  },
  {
   "cell_type": "code",
   "execution_count": null,
   "id": "6fd94b06",
   "metadata": {},
   "outputs": [],
   "source": [
    "plt.plot(df_train_normal['Timestamp'],df_train_normal['GyroX'],label=\"Gyro X\")\n",
    "plt.plot(df_train_normal['Timestamp'],df_train_normal['GyroY'],label=\"Gyro Y\")\n",
    "plt.plot(df_train_normal['Timestamp'],df_train_normal['GyroZ'],label=\"Gyro Z\")\n",
    "\n",
    "plt.title(\"Normal Driving Behaviour (Gyroscope)\")\n",
    "plt.xlabel(\"Timestamp\")\n",
    "plt.ylabel(\"In degree/s\")\n",
    "plt.legend(loc='upper left')\n",
    "plt.show()"
   ]
  },
  {
   "cell_type": "code",
   "execution_count": null,
   "id": "b96ce1de",
   "metadata": {},
   "outputs": [],
   "source": [
    "plt.plot(df_train_slow['Timestamp'],df_train_slow['GyroX'],label=\"Gyro X\")\n",
    "plt.plot(df_train_slow['Timestamp'],df_train_slow['GyroY'],label=\"Gyro Y\")\n",
    "plt.plot(df_train_slow['Timestamp'],df_train_slow['GyroZ'],label=\"Gyro Z\")\n",
    "\n",
    "plt.title(\"Slow Driving Behaviour (Gyroscope)\")\n",
    "plt.xlabel(\"Timestamp\")\n",
    "plt.ylabel(\"In degree/s\")\n",
    "plt.legend(loc='upper left')\n",
    "plt.show()"
   ]
  },
  {
   "cell_type": "code",
   "execution_count": null,
   "id": "8f4e1e7b",
   "metadata": {},
   "outputs": [],
   "source": [
    "plt.plot(df_train_aggressive['Timestamp'],df_train_aggressive['GyroX'],label=\"Gyro X\")\n",
    "plt.plot(df_train_aggressive['Timestamp'],df_train_aggressive['GyroY'],label=\"Gyro Y\")\n",
    "plt.plot(df_train_aggressive['Timestamp'],df_train_aggressive['GyroZ'],label=\"Gyro Z\")\n",
    "\n",
    "plt.title(\"Aggressive Driving Behaviour (Gyroscope)\")\n",
    "plt.xlabel(\"Timestamp\")\n",
    "plt.ylabel(\"In degree/s\")\n",
    "plt.legend(loc='upper left')\n",
    "plt.show()"
   ]
  },
  {
   "cell_type": "markdown",
   "id": "1a068621",
   "metadata": {},
   "source": [
    "### Removing N_RECORDS data from first and last of each set that is caused due to class switching"
   ]
  },
  {
   "cell_type": "code",
   "execution_count": null,
   "id": "e1a11d44",
   "metadata": {},
   "outputs": [],
   "source": [
    "df_train_slow= df_train_slow.iloc[N_RECORDS:]\n",
    "df_train_slow= df_train_slow.iloc[:-N_RECORDS]\n",
    "\n",
    "df_train_normal= df_train_normal.iloc[N_RECORDS:]\n",
    "df_train_normal= df_train_normal.iloc[:-N_RECORDS]\n",
    "\n",
    "df_train_aggressive= df_train_aggressive.iloc[N_RECORDS:]\n",
    "df_train_aggressive= df_train_aggressive.iloc[:-N_RECORDS]\n",
    "\n"
   ]
  },
  {
   "cell_type": "code",
   "execution_count": null,
   "id": "bb15967e",
   "metadata": {},
   "outputs": [],
   "source": [
    "df_test_slow= df_test_slow.iloc[N_RECORDS:]\n",
    "df_test_slow= df_test_slow.iloc[:-N_RECORDS]\n",
    "\n",
    "df_test_normal= df_test_normal.iloc[N_RECORDS:]\n",
    "df_test_normal= df_test_normal.iloc[:-N_RECORDS]\n",
    "\n",
    "df_test_aggressive= df_test_aggressive.iloc[N_RECORDS:]\n",
    "df_test_aggressive= df_test_aggressive.iloc[:-N_RECORDS]\n"
   ]
  },
  {
   "cell_type": "code",
   "execution_count": null,
   "id": "efc0a0cf",
   "metadata": {},
   "outputs": [],
   "source": [
    "# Checking data per label\n",
    "\n",
    "print('----Train----')\n",
    "print(\"Slow samples: \"+str(df_train_slow.__len__()))\n",
    "print(\"Normal samples: \"+str(df_train_normal.__len__()))\n",
    "print(\"Aggressive samples: \"+str(df_train_aggressive.__len__()))\n",
    "\n",
    "df_train_slow=df_train_slow.tail(1300)\n",
    "df_train_normal=df_train_normal.tail(1160)\n",
    "df_train_aggressive=df_train_aggressive.tail(1080)\n"
   ]
  },
  {
   "cell_type": "code",
   "execution_count": null,
   "id": "47de6077",
   "metadata": {},
   "outputs": [],
   "source": [
    "print('----Test----')\n",
    "print(\"Slow samples: \"+str(df_test_slow.__len__()))\n",
    "print(\"Normal samples: \"+str(df_test_normal.__len__()))\n",
    "print(\"Aggressive samples: \"+str(df_test_aggressive.__len__()))\n",
    "\n",
    "df_test_slow=df_test_slow.tail(1250)\n",
    "df_test_normal=df_test_normal.tail(970)\n",
    "df_test_aggressive=df_test_aggressive.tail(790)"
   ]
  },
  {
   "cell_type": "code",
   "execution_count": null,
   "id": "310be4a8",
   "metadata": {},
   "outputs": [],
   "source": [
    "#separating features from labels\n",
    "\n",
    "#train\n",
    "X_train_normal = df_train_normal.iloc[:,:FEATURES]\n",
    "X_train_slow = df_train_slow.iloc[:,:FEATURES]\n",
    "X_train_aggressive = df_train_aggressive.iloc[:,:FEATURES]\n",
    "\n",
    "#test\n",
    "X_test_normal = df_test_normal.iloc[:,:FEATURES]\n",
    "X_test_slow = df_test_slow.iloc[:,:FEATURES]\n",
    "X_test_aggressive = df_test_aggressive.iloc[:,:FEATURES]\n",
    "\n",
    "#train\n",
    "Y_train_normal=df_train_normal.Class\n",
    "Y_train_slow=df_train_slow.Class\n",
    "Y_train_aggressive=df_train_aggressive.Class\n",
    "\n",
    "Y_test_normal=df_test_normal.Class\n",
    "Y_test_slow=df_test_slow.Class\n",
    "Y_test_aggressive=df_test_aggressive.Class\n",
    "X_train_normal\n",
    "\n",
    "\n"
   ]
  },
  {
   "cell_type": "code",
   "execution_count": null,
   "id": "74ed41ac",
   "metadata": {},
   "outputs": [],
   "source": [
    "# combine all the samples into a train and test dataset\n",
    "\n",
    "X_train=pd.concat([X_train_normal,X_train_aggressive])\n",
    "Y_train=pd.concat([Y_train_normal,Y_train_aggressive])\n",
    "\n",
    "X_test=pd.concat([X_test_normal,X_test_aggressive])\n",
    "Y_test=pd.concat([Y_test_normal,Y_test_aggressive])\n",
    "'''X_train'''\n",
    "Y_train\n"
   ]
  },
  {
   "cell_type": "code",
   "execution_count": null,
   "id": "c2205a28",
   "metadata": {},
   "outputs": [],
   "source": [
    "# Mapping labels to numbers\n",
    "labelEncoder = LabelEncoder()\n",
    "Y_train=labelEncoder.fit_transform(Y_train)\n",
    "Y_test=labelEncoder.transform(Y_test)"
   ]
  },
  {
   "cell_type": "code",
   "execution_count": null,
   "id": "cf54c20e",
   "metadata": {},
   "outputs": [],
   "source": [
    "# Converting to one hot encoded vectors\n",
    "Y_train = to_categorical(Y_train, num_classes=LABELS)\n",
    "Y_test = to_categorical(Y_test, num_classes=LABELS)"
   ]
  },
  {
   "cell_type": "code",
   "execution_count": null,
   "id": "3014467e",
   "metadata": {},
   "outputs": [],
   "source": [
    "# scaling data\n",
    "scaler = StandardScaler(with_mean = True , with_std=True)\n",
    "X_train = scaler.fit_transform(X_train)\n",
    "X_test = scaler.transform(X_test)"
   ]
  },
  {
   "cell_type": "code",
   "execution_count": null,
   "id": "edef5c3c",
   "metadata": {},
   "outputs": [],
   "source": [
    "#Reshaping the input for the Conv_LSTM network (Features)\n",
    "train_samples = X_train.shape[0]//TIMESTEPS\n",
    "X_train =X_train.reshape(train_samples, N_COLUMNS, N_ROWS, N_LENGTH, FEATURES)\n",
    "\n",
    "\n",
    "test_samples = X_test.shape[0]//TIMESTEPS\n",
    "X_test =X_test.reshape(test_samples, N_COLUMNS, N_ROWS, N_LENGTH, FEATURES)\n",
    "\n",
    "print('Train features shape: '+str(X_train.shape[0]))\n",
    "print('Test features shape:' + str(X_test.shape[0]))"
   ]
  },
  {
   "cell_type": "code",
   "execution_count": null,
   "id": "b684bf37",
   "metadata": {},
   "outputs": [],
   "source": [
    "Y_train=Y_train[::TIMESTEPS]\n",
    "Y_test=Y_test[::TIMESTEPS]\n",
    "\n",
    "print('Train labels shape: '+str(Y_train.shape[0]))\n",
    "print('Test labels shape: '+str(Y_test.shape[0]))"
   ]
  },
  {
   "cell_type": "code",
   "execution_count": null,
   "id": "4627c41e",
   "metadata": {},
   "outputs": [],
   "source": [
    "tf.random.set_seed(42)\n",
    "\n",
    "# Build the model by assigning\n",
    "# the number of layers and number of neurons for each layer\n",
    "# the learning rate\n",
    "# the number of epochs\n",
    "# ------------------------------------------------------------------------\n",
    "# To get these optimal parameters I will use the Keras Tuner library\n",
    "# so it will get the optimal parameters for the NN\n",
    "# and pass it to the model_builder function\n",
    "def model_builder(hp):\n",
    "    model = tf.keras.Sequential()\n",
    "\n",
    "    model.add(\n",
    "        ConvLSTM2D(\n",
    "            filters=hp.Int('filter_units', min_value=16, max_value=64, step=16),\n",
    "            kernel_size=(1,3), \n",
    "            activation='relu', \n",
    "            input_shape=(N_COLUMNS, N_ROWS, N_LENGTH, FEATURES)\n",
    "            )\n",
    "        )\n",
    "        \n",
    "    model.add(Dropout(hp.Float('dropout_0_rate', min_value=0, max_value=0.5, step=0.1)))\n",
    "\n",
    "    model.add(Flatten())\n",
    "\n",
    "    model.add(Dense(hp.Int('dense_units', min_value=32, max_value=512, step=32), activation='relu'))\n",
    "\n",
    "    model.add(Dense(LABELS, activation='softmax'))\n",
    "    \n",
    "\n",
    "    # Tune the learning rate for the optimizer\n",
    "    # Choose an optimal value from 0.1, 0.01, 0.001, or 0.0001\n",
    "    hp_learning_rate = hp.Choice('learning_rate', values=[1e-1, 1e-2, 1e-3, 1e-4])\n",
    "\n",
    "    model.compile(\n",
    "        loss=tf.keras.losses.BinaryCrossentropy(),\n",
    "        optimizer=tf.keras.optimizers.Adam(learning_rate=hp_learning_rate),\n",
    "        metrics=[\n",
    "            tf.keras.metrics.BinaryAccuracy(name='accuracy'),\n",
    "            tf.keras.metrics.Precision(name='precision'),\n",
    "            tf.keras.metrics.Recall(name='recall')\n",
    "        ]\n",
    "    )\n",
    "\n",
    "    return model"
   ]
  },
  {
   "cell_type": "code",
   "execution_count": null,
   "id": "392b9e75",
   "metadata": {},
   "outputs": [],
   "source": [
    "# To be able to get the optimal parameters for our network\n",
    "# we have to create a Tuner with the following setup\n",
    "# 'objective' -> will use to create test models\n",
    "# 'max_epochs' -> the maximum number of epochs to train one model\n",
    "# 'factor' -> the reduction factor for the number of epochs and number of models for each bracket\n",
    "# 'directory' -> will save the training history there\n",
    "tuner= kt.Hyperband(model_builder,\n",
    "                   objective='val_accuracy',\n",
    "                   max_epochs=50,\n",
    "                   factor=3,\n",
    "                   directory='bin_conv_lstm_dir',\n",
    "                   project_name='driving_behaviour')"
   ]
  },
  {
   "cell_type": "code",
   "execution_count": null,
   "id": "4ae78ab7",
   "metadata": {},
   "outputs": [],
   "source": [
    "#Stop early function\n",
    "stop_early=tf.keras.callbacks.EarlyStopping(monitor='val_loss',patience=5)"
   ]
  },
  {
   "cell_type": "code",
   "execution_count": null,
   "id": "1a2a66d8",
   "metadata": {},
   "outputs": [],
   "source": [
    "#considering the top_performing mode\n",
    "\n",
    "tuner.search(\n",
    "    x=X_train,\n",
    "    y=Y_train,\n",
    "    epochs=50,\n",
    "    validation_data=(X_test, Y_test),\n",
    "    callbacks=[stop_early],\n",
    "    shuffle=True\n",
    ")"
   ]
  },
  {
   "cell_type": "code",
   "execution_count": null,
   "id": "2bb8770e",
   "metadata": {},
   "outputs": [],
   "source": [
    "best_mode = tuner.get_best_models()[0]"
   ]
  },
  {
   "cell_type": "code",
   "execution_count": null,
   "id": "374335da",
   "metadata": {},
   "outputs": [],
   "source": []
  }
 ],
 "metadata": {
  "kernelspec": {
   "display_name": "Python 3 (ipykernel)",
   "language": "python",
   "name": "python3"
  },
  "language_info": {
   "codemirror_mode": {
    "name": "ipython",
    "version": 3
   },
   "file_extension": ".py",
   "mimetype": "text/x-python",
   "name": "python",
   "nbconvert_exporter": "python",
   "pygments_lexer": "ipython3",
   "version": "3.10.4"
  }
 },
 "nbformat": 4,
 "nbformat_minor": 5
}
